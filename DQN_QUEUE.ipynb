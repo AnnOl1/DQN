{
  "nbformat": 4,
  "nbformat_minor": 0,
  "metadata": {
    "colab": {
      "name": "DQN QUEUE.ipynb",
      "provenance": [],
      "collapsed_sections": [],
      "include_colab_link": true
    },
    "kernelspec": {
      "name": "python3",
      "display_name": "Python 3"
    },
    "widgets": {
      "application/vnd.jupyter.widget-state+json": {
        "34a694c6e8db42dbab7ce25a7b0a2979": {
          "model_module": "@jupyter-widgets/controls",
          "model_name": "HBoxModel",
          "state": {
            "_view_name": "HBoxView",
            "_dom_classes": [],
            "_model_name": "HBoxModel",
            "_view_module": "@jupyter-widgets/controls",
            "_model_module_version": "1.5.0",
            "_view_count": null,
            "_view_module_version": "1.5.0",
            "box_style": "",
            "layout": "IPY_MODEL_3c4860029005466597e6b449904afd26",
            "_model_module": "@jupyter-widgets/controls",
            "children": [
              "IPY_MODEL_542eebcc8b0a43b4984ef47b2bdd1535",
              "IPY_MODEL_1bad3b3e985f4854beb9846028c5ae98"
            ]
          }
        },
        "3c4860029005466597e6b449904afd26": {
          "model_module": "@jupyter-widgets/base",
          "model_name": "LayoutModel",
          "state": {
            "_view_name": "LayoutView",
            "grid_template_rows": null,
            "right": null,
            "justify_content": null,
            "_view_module": "@jupyter-widgets/base",
            "overflow": null,
            "_model_module_version": "1.2.0",
            "_view_count": null,
            "flex_flow": null,
            "width": null,
            "min_width": null,
            "border": null,
            "align_items": null,
            "bottom": null,
            "_model_module": "@jupyter-widgets/base",
            "top": null,
            "grid_column": null,
            "overflow_y": null,
            "overflow_x": null,
            "grid_auto_flow": null,
            "grid_area": null,
            "grid_template_columns": null,
            "flex": null,
            "_model_name": "LayoutModel",
            "justify_items": null,
            "grid_row": null,
            "max_height": null,
            "align_content": null,
            "visibility": null,
            "align_self": null,
            "height": null,
            "min_height": null,
            "padding": null,
            "grid_auto_rows": null,
            "grid_gap": null,
            "max_width": null,
            "order": null,
            "_view_module_version": "1.2.0",
            "grid_template_areas": null,
            "object_position": null,
            "object_fit": null,
            "grid_auto_columns": null,
            "margin": null,
            "display": null,
            "left": null
          }
        },
        "542eebcc8b0a43b4984ef47b2bdd1535": {
          "model_module": "@jupyter-widgets/controls",
          "model_name": "FloatProgressModel",
          "state": {
            "_view_name": "ProgressView",
            "style": "IPY_MODEL_3a3356d37cf641fdb4bc83e7cfcce13e",
            "_dom_classes": [],
            "description": "100%",
            "_model_name": "FloatProgressModel",
            "bar_style": "success",
            "max": 1000,
            "_view_module": "@jupyter-widgets/controls",
            "_model_module_version": "1.5.0",
            "value": 1000,
            "_view_count": null,
            "_view_module_version": "1.5.0",
            "orientation": "horizontal",
            "min": 0,
            "description_tooltip": null,
            "_model_module": "@jupyter-widgets/controls",
            "layout": "IPY_MODEL_5975e7bbcea14d3fa648c0c45f0542c7"
          }
        },
        "1bad3b3e985f4854beb9846028c5ae98": {
          "model_module": "@jupyter-widgets/controls",
          "model_name": "HTMLModel",
          "state": {
            "_view_name": "HTMLView",
            "style": "IPY_MODEL_90e91b40d1b34f8082972a475d66390d",
            "_dom_classes": [],
            "description": "",
            "_model_name": "HTMLModel",
            "placeholder": "​",
            "_view_module": "@jupyter-widgets/controls",
            "_model_module_version": "1.5.0",
            "value": " 1000/1000 [05:42&lt;00:00,  2.92it/s]",
            "_view_count": null,
            "_view_module_version": "1.5.0",
            "description_tooltip": null,
            "_model_module": "@jupyter-widgets/controls",
            "layout": "IPY_MODEL_a669c700096443bf940936afe5508454"
          }
        },
        "3a3356d37cf641fdb4bc83e7cfcce13e": {
          "model_module": "@jupyter-widgets/controls",
          "model_name": "ProgressStyleModel",
          "state": {
            "_view_name": "StyleView",
            "_model_name": "ProgressStyleModel",
            "description_width": "initial",
            "_view_module": "@jupyter-widgets/base",
            "_model_module_version": "1.5.0",
            "_view_count": null,
            "_view_module_version": "1.2.0",
            "bar_color": null,
            "_model_module": "@jupyter-widgets/controls"
          }
        },
        "5975e7bbcea14d3fa648c0c45f0542c7": {
          "model_module": "@jupyter-widgets/base",
          "model_name": "LayoutModel",
          "state": {
            "_view_name": "LayoutView",
            "grid_template_rows": null,
            "right": null,
            "justify_content": null,
            "_view_module": "@jupyter-widgets/base",
            "overflow": null,
            "_model_module_version": "1.2.0",
            "_view_count": null,
            "flex_flow": null,
            "width": null,
            "min_width": null,
            "border": null,
            "align_items": null,
            "bottom": null,
            "_model_module": "@jupyter-widgets/base",
            "top": null,
            "grid_column": null,
            "overflow_y": null,
            "overflow_x": null,
            "grid_auto_flow": null,
            "grid_area": null,
            "grid_template_columns": null,
            "flex": null,
            "_model_name": "LayoutModel",
            "justify_items": null,
            "grid_row": null,
            "max_height": null,
            "align_content": null,
            "visibility": null,
            "align_self": null,
            "height": null,
            "min_height": null,
            "padding": null,
            "grid_auto_rows": null,
            "grid_gap": null,
            "max_width": null,
            "order": null,
            "_view_module_version": "1.2.0",
            "grid_template_areas": null,
            "object_position": null,
            "object_fit": null,
            "grid_auto_columns": null,
            "margin": null,
            "display": null,
            "left": null
          }
        },
        "90e91b40d1b34f8082972a475d66390d": {
          "model_module": "@jupyter-widgets/controls",
          "model_name": "DescriptionStyleModel",
          "state": {
            "_view_name": "StyleView",
            "_model_name": "DescriptionStyleModel",
            "description_width": "",
            "_view_module": "@jupyter-widgets/base",
            "_model_module_version": "1.5.0",
            "_view_count": null,
            "_view_module_version": "1.2.0",
            "_model_module": "@jupyter-widgets/controls"
          }
        },
        "a669c700096443bf940936afe5508454": {
          "model_module": "@jupyter-widgets/base",
          "model_name": "LayoutModel",
          "state": {
            "_view_name": "LayoutView",
            "grid_template_rows": null,
            "right": null,
            "justify_content": null,
            "_view_module": "@jupyter-widgets/base",
            "overflow": null,
            "_model_module_version": "1.2.0",
            "_view_count": null,
            "flex_flow": null,
            "width": null,
            "min_width": null,
            "border": null,
            "align_items": null,
            "bottom": null,
            "_model_module": "@jupyter-widgets/base",
            "top": null,
            "grid_column": null,
            "overflow_y": null,
            "overflow_x": null,
            "grid_auto_flow": null,
            "grid_area": null,
            "grid_template_columns": null,
            "flex": null,
            "_model_name": "LayoutModel",
            "justify_items": null,
            "grid_row": null,
            "max_height": null,
            "align_content": null,
            "visibility": null,
            "align_self": null,
            "height": null,
            "min_height": null,
            "padding": null,
            "grid_auto_rows": null,
            "grid_gap": null,
            "max_width": null,
            "order": null,
            "_view_module_version": "1.2.0",
            "grid_template_areas": null,
            "object_position": null,
            "object_fit": null,
            "grid_auto_columns": null,
            "margin": null,
            "display": null,
            "left": null
          }
        }
      }
    }
  },
  "cells": [
    {
      "cell_type": "markdown",
      "metadata": {
        "id": "view-in-github",
        "colab_type": "text"
      },
      "source": [
        "<a href=\"https://colab.research.google.com/github/kondrasso/DQN/blob/master/DQN_QUEUE.ipynb\" target=\"_parent\"><img src=\"https://colab.research.google.com/assets/colab-badge.svg\" alt=\"Open In Colab\"/></a>"
      ]
    },
    {
      "cell_type": "markdown",
      "metadata": {
        "id": "Hhyv10q8MmUP",
        "colab_type": "text"
      },
      "source": [
        "# DQN model for queue management in medical facility\n",
        "\n",
        "Based on [COVID-2019](https://www.kaggle.com/iamhungundji/covid19-symptoms-checker) dataset. Basic idea: we have queue of fixed lenght that represents emergency room in hospital, that filled up with patients with different sympotms and levels of severity of their condition. Our goal is to minimize waiting time while delivering help for the most severe patients.  \n"
      ]
    },
    {
      "cell_type": "markdown",
      "metadata": {
        "id": "fps-3Sq1QR_h",
        "colab_type": "text"
      },
      "source": [
        "Before we start, we need to install external libraries, that are not present in Colab by default: \n",
        "\n",
        "\n",
        "*   Stable_baselines - library that extends OpenAI Gym and provides tool for testing correctness of constructed model in terms of Gym API\n",
        "*   TensorFlow 1.13.2 - due to some constraints of Stable_baselines and OpenAI Gym we will be using this particular version of TF, which allows us to use all variants of baseline RL algorithms\n",
        "\n"
      ]
    },
    {
      "cell_type": "code",
      "metadata": {
        "id": "0BuazVK2LLD3",
        "colab_type": "code",
        "colab": {
          "base_uri": "https://localhost:8080/",
          "height": 407
        },
        "outputId": "0f60d493-5235-4198-d78a-a3bc1156eaff"
      },
      "source": [
        "!pip install stable_baselines[mpi]"
      ],
      "execution_count": 43,
      "outputs": [
        {
          "output_type": "stream",
          "text": [
            "Requirement already satisfied: stable_baselines[mpi] in /usr/local/lib/python3.6/dist-packages (2.10.0)\n",
            "Requirement already satisfied: matplotlib in /usr/local/lib/python3.6/dist-packages (from stable_baselines[mpi]) (3.2.1)\n",
            "Requirement already satisfied: gym[atari,classic_control]>=0.11 in /usr/local/lib/python3.6/dist-packages (from stable_baselines[mpi]) (0.17.2)\n",
            "Requirement already satisfied: pandas in /usr/local/lib/python3.6/dist-packages (from stable_baselines[mpi]) (1.0.4)\n",
            "Requirement already satisfied: opencv-python in /usr/local/lib/python3.6/dist-packages (from stable_baselines[mpi]) (4.1.2.30)\n",
            "Requirement already satisfied: joblib in /usr/local/lib/python3.6/dist-packages (from stable_baselines[mpi]) (0.15.1)\n",
            "Requirement already satisfied: scipy in /usr/local/lib/python3.6/dist-packages (from stable_baselines[mpi]) (1.4.1)\n",
            "Requirement already satisfied: cloudpickle>=0.5.5 in /usr/local/lib/python3.6/dist-packages (from stable_baselines[mpi]) (1.3.0)\n",
            "Requirement already satisfied: numpy in /usr/local/lib/python3.6/dist-packages (from stable_baselines[mpi]) (1.18.5)\n",
            "Requirement already satisfied: mpi4py; extra == \"mpi\" in /usr/local/lib/python3.6/dist-packages (from stable_baselines[mpi]) (3.0.3)\n",
            "Requirement already satisfied: python-dateutil>=2.1 in /usr/local/lib/python3.6/dist-packages (from matplotlib->stable_baselines[mpi]) (2.8.1)\n",
            "Requirement already satisfied: pyparsing!=2.0.4,!=2.1.2,!=2.1.6,>=2.0.1 in /usr/local/lib/python3.6/dist-packages (from matplotlib->stable_baselines[mpi]) (2.4.7)\n",
            "Requirement already satisfied: cycler>=0.10 in /usr/local/lib/python3.6/dist-packages (from matplotlib->stable_baselines[mpi]) (0.10.0)\n",
            "Requirement already satisfied: kiwisolver>=1.0.1 in /usr/local/lib/python3.6/dist-packages (from matplotlib->stable_baselines[mpi]) (1.2.0)\n",
            "Requirement already satisfied: pyglet<=1.5.0,>=1.4.0 in /usr/local/lib/python3.6/dist-packages (from gym[atari,classic_control]>=0.11->stable_baselines[mpi]) (1.5.0)\n",
            "Requirement already satisfied: atari-py~=0.2.0; extra == \"atari\" in /usr/local/lib/python3.6/dist-packages (from gym[atari,classic_control]>=0.11->stable_baselines[mpi]) (0.2.6)\n",
            "Requirement already satisfied: Pillow; extra == \"atari\" in /usr/local/lib/python3.6/dist-packages (from gym[atari,classic_control]>=0.11->stable_baselines[mpi]) (7.0.0)\n",
            "Requirement already satisfied: pytz>=2017.2 in /usr/local/lib/python3.6/dist-packages (from pandas->stable_baselines[mpi]) (2018.9)\n",
            "Requirement already satisfied: six>=1.5 in /usr/local/lib/python3.6/dist-packages (from python-dateutil>=2.1->matplotlib->stable_baselines[mpi]) (1.12.0)\n",
            "Requirement already satisfied: future in /usr/local/lib/python3.6/dist-packages (from pyglet<=1.5.0,>=1.4.0->gym[atari,classic_control]>=0.11->stable_baselines[mpi]) (0.16.0)\n"
          ],
          "name": "stdout"
        }
      ]
    },
    {
      "cell_type": "code",
      "metadata": {
        "id": "2lhZVYjcL-0n",
        "colab_type": "code",
        "colab": {
          "base_uri": "https://localhost:8080/",
          "height": 425
        },
        "outputId": "4e133ce9-9d6a-4fdd-e4d5-7058e95d68d0"
      },
      "source": [
        "!pip install 'tensorflow==1.13.2'"
      ],
      "execution_count": 44,
      "outputs": [
        {
          "output_type": "stream",
          "text": [
            "Requirement already satisfied: tensorflow==1.13.2 in /usr/local/lib/python3.6/dist-packages (1.13.2)\n",
            "Requirement already satisfied: tensorboard<1.14.0,>=1.13.0 in /usr/local/lib/python3.6/dist-packages (from tensorflow==1.13.2) (1.13.1)\n",
            "Requirement already satisfied: astor>=0.6.0 in /usr/local/lib/python3.6/dist-packages (from tensorflow==1.13.2) (0.8.1)\n",
            "Requirement already satisfied: grpcio>=1.8.6 in /usr/local/lib/python3.6/dist-packages (from tensorflow==1.13.2) (1.29.0)\n",
            "Requirement already satisfied: absl-py>=0.1.6 in /usr/local/lib/python3.6/dist-packages (from tensorflow==1.13.2) (0.9.0)\n",
            "Requirement already satisfied: keras-preprocessing>=1.0.5 in /usr/local/lib/python3.6/dist-packages (from tensorflow==1.13.2) (1.1.2)\n",
            "Requirement already satisfied: keras-applications>=1.0.6 in /usr/local/lib/python3.6/dist-packages (from tensorflow==1.13.2) (1.0.8)\n",
            "Requirement already satisfied: six>=1.10.0 in /usr/local/lib/python3.6/dist-packages (from tensorflow==1.13.2) (1.12.0)\n",
            "Requirement already satisfied: protobuf>=3.6.1 in /usr/local/lib/python3.6/dist-packages (from tensorflow==1.13.2) (3.10.0)\n",
            "Requirement already satisfied: tensorflow-estimator<1.14.0rc0,>=1.13.0 in /usr/local/lib/python3.6/dist-packages (from tensorflow==1.13.2) (1.13.0)\n",
            "Requirement already satisfied: termcolor>=1.1.0 in /usr/local/lib/python3.6/dist-packages (from tensorflow==1.13.2) (1.1.0)\n",
            "Requirement already satisfied: numpy<2.0,>=1.16.0 in /usr/local/lib/python3.6/dist-packages (from tensorflow==1.13.2) (1.18.5)\n",
            "Requirement already satisfied: wheel>=0.26 in /usr/local/lib/python3.6/dist-packages (from tensorflow==1.13.2) (0.34.2)\n",
            "Requirement already satisfied: gast>=0.2.0 in /usr/local/lib/python3.6/dist-packages (from tensorflow==1.13.2) (0.3.3)\n",
            "Requirement already satisfied: werkzeug>=0.11.15 in /usr/local/lib/python3.6/dist-packages (from tensorboard<1.14.0,>=1.13.0->tensorflow==1.13.2) (1.0.1)\n",
            "Requirement already satisfied: markdown>=2.6.8 in /usr/local/lib/python3.6/dist-packages (from tensorboard<1.14.0,>=1.13.0->tensorflow==1.13.2) (3.2.2)\n",
            "Requirement already satisfied: h5py in /usr/local/lib/python3.6/dist-packages (from keras-applications>=1.0.6->tensorflow==1.13.2) (2.10.0)\n",
            "Requirement already satisfied: setuptools in /usr/local/lib/python3.6/dist-packages (from protobuf>=3.6.1->tensorflow==1.13.2) (47.1.1)\n",
            "Requirement already satisfied: mock>=2.0.0 in /usr/local/lib/python3.6/dist-packages (from tensorflow-estimator<1.14.0rc0,>=1.13.0->tensorflow==1.13.2) (4.0.2)\n",
            "Requirement already satisfied: importlib-metadata; python_version < \"3.8\" in /usr/local/lib/python3.6/dist-packages (from markdown>=2.6.8->tensorboard<1.14.0,>=1.13.0->tensorflow==1.13.2) (1.6.1)\n",
            "Requirement already satisfied: zipp>=0.5 in /usr/local/lib/python3.6/dist-packages (from importlib-metadata; python_version < \"3.8\"->markdown>=2.6.8->tensorboard<1.14.0,>=1.13.0->tensorflow==1.13.2) (3.1.0)\n"
          ],
          "name": "stdout"
        }
      ]
    },
    {
      "cell_type": "markdown",
      "metadata": {
        "id": "pFBI93mjm4D7",
        "colab_type": "text"
      },
      "source": [
        "Now we can load our data and select necessary feautres. Weights of features at first were determined by RandomForest and manually tuned then. "
      ]
    },
    {
      "cell_type": "code",
      "metadata": {
        "id": "hq1qv2K0Uhoc",
        "colab_type": "code",
        "colab": {}
      },
      "source": [
        "import pandas as pd\n",
        "import gym\n",
        "import numpy as np\n",
        "import matplotlib.pyplot as plt\n",
        "import random\n",
        "from tqdm.auto import tqdm, trange\n",
        "from scipy.stats import mode\n",
        "from collections import deque\n",
        "from keras.models import Sequential\n",
        "from keras.layers import Dense, Flatten, LSTM, InputLayer\n",
        "from keras.optimizers import Adam\n",
        "from gym import spaces\n",
        "from stable_baselines.common.env_checker import check_env"
      ],
      "execution_count": 45,
      "outputs": []
    },
    {
      "cell_type": "code",
      "metadata": {
        "id": "liZncd5Jw4XQ",
        "colab_type": "code",
        "colab": {}
      },
      "source": [
        "df = pd.read_csv('result_dqn.csv')"
      ],
      "execution_count": 46,
      "outputs": []
    },
    {
      "cell_type": "code",
      "metadata": {
        "id": "Ub0CzL48G9FZ",
        "colab_type": "code",
        "colab": {
          "base_uri": "https://localhost:8080/",
          "height": 224
        },
        "outputId": "8800bc3c-5afe-4012-9e76-334d6e98771d"
      },
      "source": [
        "df.head()"
      ],
      "execution_count": 47,
      "outputs": [
        {
          "output_type": "execute_result",
          "data": {
            "text/html": [
              "<div>\n",
              "<style scoped>\n",
              "    .dataframe tbody tr th:only-of-type {\n",
              "        vertical-align: middle;\n",
              "    }\n",
              "\n",
              "    .dataframe tbody tr th {\n",
              "        vertical-align: top;\n",
              "    }\n",
              "\n",
              "    .dataframe thead th {\n",
              "        text-align: right;\n",
              "    }\n",
              "</style>\n",
              "<table border=\"1\" class=\"dataframe\">\n",
              "  <thead>\n",
              "    <tr style=\"text-align: right;\">\n",
              "      <th></th>\n",
              "      <th>Unnamed: 0</th>\n",
              "      <th>Fever</th>\n",
              "      <th>Tiredness</th>\n",
              "      <th>Dry-Cough</th>\n",
              "      <th>Difficulty-in-Breathing</th>\n",
              "      <th>Sore-Throat</th>\n",
              "      <th>Pains</th>\n",
              "      <th>Nasal-Congestion</th>\n",
              "      <th>Runny-Nose</th>\n",
              "      <th>Diarrhea</th>\n",
              "      <th>Age_0-9</th>\n",
              "      <th>Age_10-19</th>\n",
              "      <th>Age_20-24</th>\n",
              "      <th>Age_25-59</th>\n",
              "      <th>Age_60+</th>\n",
              "      <th>dead_prob</th>\n",
              "    </tr>\n",
              "  </thead>\n",
              "  <tbody>\n",
              "    <tr>\n",
              "      <th>0</th>\n",
              "      <td>0</td>\n",
              "      <td>0</td>\n",
              "      <td>1</td>\n",
              "      <td>1</td>\n",
              "      <td>1</td>\n",
              "      <td>0</td>\n",
              "      <td>0</td>\n",
              "      <td>0</td>\n",
              "      <td>1</td>\n",
              "      <td>0</td>\n",
              "      <td>0</td>\n",
              "      <td>0</td>\n",
              "      <td>0</td>\n",
              "      <td>0</td>\n",
              "      <td>1</td>\n",
              "      <td>0.040684</td>\n",
              "    </tr>\n",
              "    <tr>\n",
              "      <th>1</th>\n",
              "      <td>1</td>\n",
              "      <td>0</td>\n",
              "      <td>1</td>\n",
              "      <td>0</td>\n",
              "      <td>0</td>\n",
              "      <td>0</td>\n",
              "      <td>1</td>\n",
              "      <td>1</td>\n",
              "      <td>1</td>\n",
              "      <td>0</td>\n",
              "      <td>1</td>\n",
              "      <td>0</td>\n",
              "      <td>0</td>\n",
              "      <td>0</td>\n",
              "      <td>0</td>\n",
              "      <td>0.052284</td>\n",
              "    </tr>\n",
              "    <tr>\n",
              "      <th>2</th>\n",
              "      <td>2</td>\n",
              "      <td>1</td>\n",
              "      <td>1</td>\n",
              "      <td>1</td>\n",
              "      <td>1</td>\n",
              "      <td>0</td>\n",
              "      <td>1</td>\n",
              "      <td>0</td>\n",
              "      <td>0</td>\n",
              "      <td>0</td>\n",
              "      <td>0</td>\n",
              "      <td>0</td>\n",
              "      <td>1</td>\n",
              "      <td>0</td>\n",
              "      <td>0</td>\n",
              "      <td>0.090927</td>\n",
              "    </tr>\n",
              "    <tr>\n",
              "      <th>3</th>\n",
              "      <td>3</td>\n",
              "      <td>0</td>\n",
              "      <td>0</td>\n",
              "      <td>1</td>\n",
              "      <td>0</td>\n",
              "      <td>0</td>\n",
              "      <td>1</td>\n",
              "      <td>0</td>\n",
              "      <td>0</td>\n",
              "      <td>0</td>\n",
              "      <td>0</td>\n",
              "      <td>0</td>\n",
              "      <td>0</td>\n",
              "      <td>0</td>\n",
              "      <td>1</td>\n",
              "      <td>0.042939</td>\n",
              "    </tr>\n",
              "    <tr>\n",
              "      <th>4</th>\n",
              "      <td>4</td>\n",
              "      <td>0</td>\n",
              "      <td>1</td>\n",
              "      <td>1</td>\n",
              "      <td>1</td>\n",
              "      <td>1</td>\n",
              "      <td>1</td>\n",
              "      <td>0</td>\n",
              "      <td>0</td>\n",
              "      <td>0</td>\n",
              "      <td>0</td>\n",
              "      <td>1</td>\n",
              "      <td>0</td>\n",
              "      <td>0</td>\n",
              "      <td>0</td>\n",
              "      <td>0.070551</td>\n",
              "    </tr>\n",
              "  </tbody>\n",
              "</table>\n",
              "</div>"
            ],
            "text/plain": [
              "   Unnamed: 0  Fever  Tiredness  ...  Age_25-59  Age_60+  dead_prob\n",
              "0           0      0          1  ...          0        1   0.040684\n",
              "1           1      0          1  ...          0        0   0.052284\n",
              "2           2      1          1  ...          0        0   0.090927\n",
              "3           3      0          0  ...          0        1   0.042939\n",
              "4           4      0          1  ...          0        0   0.070551\n",
              "\n",
              "[5 rows x 16 columns]"
            ]
          },
          "metadata": {
            "tags": []
          },
          "execution_count": 47
        }
      ]
    },
    {
      "cell_type": "code",
      "metadata": {
        "id": "fA42dUZx23DI",
        "colab_type": "code",
        "colab": {}
      },
      "source": [
        "df['time'] = 0"
      ],
      "execution_count": 48,
      "outputs": []
    },
    {
      "cell_type": "code",
      "metadata": {
        "id": "U6vUp3dM314u",
        "colab_type": "code",
        "colab": {}
      },
      "source": [
        "df = df[['time','dead_prob', 'Fever', 'Tiredness', 'Dry-Cough', 'Difficulty-in-Breathing',\n",
        "       'Sore-Throat', 'Pains', 'Nasal-Congestion', 'Runny-Nose', 'Diarrhea',\n",
        "       'Age_0-9', 'Age_10-19', 'Age_20-24', 'Age_25-59', 'Age_60+']]"
      ],
      "execution_count": 49,
      "outputs": []
    },
    {
      "cell_type": "markdown",
      "metadata": {
        "id": "lOmLH31FRuWa",
        "colab_type": "text"
      },
      "source": [
        "Feature weight vector"
      ]
    },
    {
      "cell_type": "code",
      "metadata": {
        "id": "8ujiIAZ-Kvd0",
        "colab_type": "code",
        "colab": {}
      },
      "source": [
        "feature_w = np.array(\n",
        "                      [\n",
        "                        2,\n",
        "                        0.12333333,\n",
        "                        0.08333333,\n",
        "                        0.14333333,\n",
        "                        0.06333333,\n",
        "                        0.19,\n",
        "                        0.04,\n",
        "                        0.02666667,\n",
        "                        0.05,\n",
        "                        0.01,\n",
        "                        0.01,\n",
        "                        0.1,\n",
        "                        0.00666667,\n",
        "                        0.02 \n",
        "                      ]\n",
        "                     )"
      ],
      "execution_count": 50,
      "outputs": []
    },
    {
      "cell_type": "markdown",
      "metadata": {
        "id": "Y4qje6O8R2Po",
        "colab_type": "text"
      },
      "source": [
        "Now we can determine QueueModel, which contains methods:\n",
        "\n",
        "\n",
        "*   Action - represents an action-space, action from which agent should take in each step of the game. They are determined by discrete space that consists of 4 possible actions: we can remove last patient in a queue, remove most severe, patient who waited the longest time or patient with max linear combination of weighted features and time that he waiting in a queue. \n",
        "*   Upadte - method for updating queue by 1-in-1-out principle: we can remove 1 patient determined by an agent and we recive new one in the beginning of the queue.\n",
        "*   Update patient severity - method that modifies severity feature value of each patient. Severity may only get worse with a time.\n",
        "*   Observe - method that returns current state of queue.\n",
        "*   Evaluate - function that calculates current aggregate state of all patients in queue and compares it to previous results, and difference between them determines reward that agent should recive.\n",
        "\n",
        "CustomEnv - class that connects QueueModel and OpenAI Gym API, which allows us to use all benefits of that library: debugging, benchmark models, etc. It should contain particular methods to be considered Gym Enviroment:\n",
        "\n",
        "\n",
        "*   Step - method that represents changing state of the game: agent takes action, state of the game updates, reward of the step calculated, we check if the game is over and observe new state.\n",
        "*   Reset - method that can reset the game and all corresponding values\n",
        "*   Get score - method that returns current state reward score"
      ]
    },
    {
      "cell_type": "code",
      "metadata": {
        "id": "eU87-Lku4nGd",
        "colab_type": "code",
        "colab": {}
      },
      "source": [
        "class QueueModel(object):\n",
        "    \n",
        "    def __init__(self,dataset, queue_len, feature_weights):\n",
        "        self.dataset = dataset\n",
        "        self.queue_len = queue_len\n",
        "        self.feature_weights = feature_weights\n",
        "        self.x_axis_size = self.dataset.shape[0]\n",
        "        self.y_axis_size = self.dataset.shape[1]\n",
        "        self.patient = None\n",
        "        self.wq = None\n",
        "        self.previous_step_reward = -100 # np.random.randint(70)\n",
        "        self.current_step_reward = None\n",
        "        self.queue = np.zeros((\n",
        "                                1,\n",
        "                                self.y_axis_size,\n",
        "                                1\n",
        "                               ),dtype=float)\n",
        "        \n",
        "        self.tanh = lambda x: np.tanh(x)\n",
        "        self.weight_updater = lambda x: x + x*np.random.uniform(0,0.2)\n",
        "        self.weighted_queue = None\n",
        "        self.reward = None\n",
        "        self.max_other_features = None\n",
        "        self.t = 1\n",
        "        self.state_space = None\n",
        "        self.new_patient = None\n",
        "        self.action_space = None\n",
        "        self.max_wait, self.severe = None, None\n",
        "        self.ep_score = []\n",
        "\n",
        "        for i in range(self.queue_len):\n",
        "            self.queue = np.vstack((\n",
        "                                    self.queue,\n",
        "                                    self.dataset[[np.random.randint(\n",
        "                                        1,\n",
        "                                        self.x_axis_size,\n",
        "                                        dtype=int)],:,:]\n",
        "                                    ))\n",
        "            \n",
        "        self.queue = np.delete(\n",
        "                                self.queue,\n",
        "                                -1,\n",
        "                                axis=0\n",
        "                               )\n",
        "        \n",
        "    def update_patient_severity(self):\n",
        "\n",
        "        self.queue[:,[1],:] = self.queue[:,[0],:]+0.2*np.random.random_sample((self.queue_len,1,1))\n",
        "\n",
        "        self.queue[:,[1],:] = np.apply_along_axis(\n",
        "                                                  np.tanh,\n",
        "                                                  0,\n",
        "                                                  self.queue[:,[1],:]\n",
        "                                                  )\n",
        "        return self\n",
        "    \n",
        "    \n",
        "    def update(self):\n",
        "\n",
        "        self.new_patient = self.dataset[\n",
        "                                        [np.random.randint(\n",
        "                                                            1,\n",
        "                                                            self.x_axis_size,\n",
        "                                                            dtype=int)\n",
        "                                        ],:,:]\n",
        "\n",
        "        self.queue = np.vstack((\n",
        "                                self.queue,\n",
        "                                self.dataset[\n",
        "                                             [np.random.randint(\n",
        "                                                                1,\n",
        "                                                                self.x_axis_size,\n",
        "                                                                dtype=int\n",
        "                                                                )\n",
        "                                             ],:,:]\n",
        "                                ))\n",
        "        \n",
        "        self.queue[:,[0],:] += 1\n",
        "        return self\n",
        "    \n",
        "    def observe(self):\n",
        "\n",
        "        return self.queue\n",
        "        \n",
        "    def action(self, action):\n",
        "\n",
        "        if action == 0:\n",
        "            self.max_wait = np.argmax(self.queue[:,[0],:]) \n",
        "            self.queue = np.delete(\n",
        "                                    self.queue,\n",
        "                                    self.max_wait,\n",
        "                                    axis=0\n",
        "                                   )\n",
        "        elif action == 1:\n",
        "            self.max_severe = np.argmax(self.queue[:,[1],:])\n",
        "            self.queue = np.delete(\n",
        "                                    self.queue,\n",
        "                                    self.max_severe,\n",
        "                                    axis=0\n",
        "                                   )\n",
        "        elif action == 2:\n",
        "            self.queue = np.delete(\n",
        "                                    self.queue,\n",
        "                                    -1,\n",
        "                                    axis=0\n",
        "                                   )\n",
        "        else:\n",
        "            self.wq = self.queue.copy()\n",
        "\n",
        "            self.wq[:,2:,[0]] = np.multiply(\n",
        "                                             self.wq[:,2:,[0]],\n",
        "                                             self.feature_weights.reshape(1,self.y_axis_size-2,1)\n",
        "                                            )\n",
        "            \n",
        "            self.max_other_features = np.argmax(np.sum(self.wq[:,2:,:],axis=1))\n",
        "\n",
        "            self.queue = np.delete(\n",
        "                                    self.queue,\n",
        "                                    self.max_other_features,\n",
        "                                    axis=0\n",
        "                                   )\n",
        "        return self\n",
        "    \n",
        "    def evaluate(self):\n",
        "        # self.weighted_queue = self.queue.copy()\n",
        "\n",
        "        # self.weighted_queue[:,2:,:] = np.multiply(\n",
        "        #                                             self.weighted_queue[:,2:,:],\n",
        "        #                                             self.feature_weights.reshape(1,self.y_axis_size-2,1)\n",
        "        #                                             )\n",
        "        # self.update_patient_severity()\n",
        "        # self.current_step_reward = 1/np.sum(np.sum(self.queue,axis=1))\n",
        "        # if self.current_step_reward < self.previous_step_reward:\n",
        "        #     self.reward = abs(self.previous_step_reward - self.current_step_reward)*100\n",
        "        # else:\n",
        "        #     self.reward = abs(self.previous_step_reward - self.current_step_reward)*10\n",
        "        # self.previous_step_reward = self.current_step_reward\n",
        "        # self.ep_score.append(self.current_step_reward)\n",
        "        # self.reward\n",
        "        return 100/np.sum(np.sum(self.queue,axis=1))\n",
        "    \n",
        "    def is_done(self):\n",
        "        if self.t > 50: \n",
        "            return True\n",
        "        else:\n",
        "            return False\n",
        "    \n",
        "\n",
        "\n",
        "class CustomEnv(gym.Env):\n",
        "    \n",
        "    def __init__(self,dataset,queue_len,feature_w):\n",
        "        \n",
        "        self.dataset = dataset\n",
        "        self.queue_len = queue_len\n",
        "        self.feature_w = feature_w\n",
        "\n",
        "        self.queue_game = QueueModel(\n",
        "                                      dataset,\n",
        "                                      queue_len,\n",
        "                                      feature_w\n",
        "                                      )\n",
        "        \n",
        "        self.y_axis_size = self.dataset.shape[1]\n",
        "        self.action_space = spaces.Discrete(4)\n",
        "\n",
        "        self.observation_space = spaces.Box(\n",
        "                                            low=0,\n",
        "                                            high=255,\n",
        "                                            shape=\n",
        "                                            (\n",
        "                                                self.queue_len, \n",
        "                                                self.y_axis_size, \n",
        "                                                1\n",
        "                                             )\n",
        "                                            )\n",
        "\n",
        "    def reset(self):\n",
        "\n",
        "        del self.queue_game\n",
        "\n",
        "        self.queue_game = QueueModel(\n",
        "                                      self.dataset,\n",
        "                                      self.queue_len,\n",
        "                                      self.feature_w\n",
        "                                     )\n",
        "        \n",
        "        return self.queue_game.queue\n",
        "    \n",
        "    def get_score(self):\n",
        "        return self.queue_game.ep_score\n",
        "\n",
        "    def step(self, action):\n",
        "\n",
        "        self.queue_game.action(action)\n",
        "        self.queue_game.update()\n",
        "        reward = self.queue_game.evaluate()\n",
        "        done = self.queue_game.is_done()\n",
        "        obs = self.queue_game.observe()\n",
        "        info = {}\n",
        "        return obs, reward, done, info"
      ],
      "execution_count": 51,
      "outputs": []
    },
    {
      "cell_type": "markdown",
      "metadata": {
        "id": "_h8Smi6ZYAFR",
        "colab_type": "text"
      },
      "source": [
        "Now we can check  correctness of our enviroment with stable baseline tool. Because it's was originally design to check image-related models, we get 2 warnings, but in our case this is ok"
      ]
    },
    {
      "cell_type": "code",
      "metadata": {
        "id": "zhwUIlGeX2Cw",
        "colab_type": "code",
        "colab": {
          "base_uri": "https://localhost:8080/",
          "height": 111
        },
        "outputId": "bcdd965a-48bb-45fe-cd0f-a809ac7923b7"
      },
      "source": [
        "env = CustomEnv(\n",
        "        df.iloc[:100000, :16].to_numpy().reshape(100000,16,1),\n",
        "        5,\n",
        "        feature_w\n",
        "        )\n",
        "# It will check your custom environment and output additional warnings if needed\n",
        "check_env(env)"
      ],
      "execution_count": 52,
      "outputs": [
        {
          "output_type": "stream",
          "text": [
            "/usr/local/lib/python3.6/dist-packages/stable_baselines/common/env_checker.py:25: UserWarning: It seems that your observation is an image but the `dtype` of your observation_space is not `np.uint8`. If your observation is not an image, we recommend you to flatten the observation to have only a 1D vector\n",
            "  warnings.warn(\"It seems that your observation is an image but the `dtype` \"\n",
            "/usr/local/lib/python3.6/dist-packages/stable_baselines/common/env_checker.py:38: UserWarning: The minimal resolution for an image is 36x36 for the default CnnPolicy. You might need to use a custom `cnn_extractor` cf https://stable-baselines.readthedocs.io/en/master/guide/custom_policy.html\n",
            "  warnings.warn(\"The minimal resolution for an image is 36x36 for the default CnnPolicy. \"\n"
          ],
          "name": "stderr"
        }
      ]
    },
    {
      "cell_type": "markdown",
      "metadata": {
        "id": "htFL7YFkXqY5",
        "colab_type": "text"
      },
      "source": [
        "Now we can determine our DQN agent that can take actions and make the decisions. It's structure are pretty straightforward, it's better that you look up basics in this [tutorial](https://pytorch.org/tutorials/intermediate/reinforcement_q_learning.html)\n",
        "\n",
        "As for our parameters: our state space determined by matrix with dimensions QUEUE x 16 x 1; three dimensional matrix considered because of inherit traits of DQN RL models. We are training on the first 100k patients, which are roughly 30% of all data. "
      ]
    },
    {
      "cell_type": "code",
      "metadata": {
        "id": "kJqw4fAATL_f",
        "colab_type": "code",
        "colab": {}
      },
      "source": [
        "EPISODES = 1000\n",
        "QUEUE = 10\n",
        "BATCH_SIZE = 32\n",
        "\n",
        "temp_reward_mean = []\n",
        "temp_actions_moda = []\n",
        "ep = []\n",
        "\n",
        "class DQNAgent:\n",
        "    def __init__(self, state_size, action_size):\n",
        "        self.state_size = state_size\n",
        "        self.action_size = action_size\n",
        "        self.memory = deque(maxlen=2000)\n",
        "        self.gamma = 0.95  # discount rate\n",
        "        self.epsilon = 1.0  # exploration rate\n",
        "        self.epsilon_min = 0.001\n",
        "        self.epsilon_decay = 0.995\n",
        "        self.learning_rate = 0.001\n",
        "        self.model = self._build_model()\n",
        "\n",
        "    def _build_model(self):\n",
        "        # Neural Net for Deep-Q learning Model\n",
        "        model = Sequential()\n",
        "        model.add(InputLayer(input_shape=(16,1)))\n",
        "        model.add(Dense(self.state_size*QUEUE, activation='elu'))\n",
        "        model.add(Dense(self.state_size*QUEUE, activation='elu'))\n",
        "        model.add(Dense(self.state_size*QUEUE, activation='elu'))\n",
        "        model.add(Dense(self.state_size*QUEUE, activation='elu'))\n",
        "        model.add(Dense(self.action_size, activation='softmax'))\n",
        "        model.compile(loss='mse',\n",
        "                      optimizer=Adam(lr=self.learning_rate))\n",
        "        return model\n",
        "\n",
        "    def memorize(self, state, action, reward, next_state, done):\n",
        "        self.memory.append(\n",
        "            (\n",
        "              state,\n",
        "              action,\n",
        "              reward,\n",
        "              next_state,\n",
        "              done\n",
        "            )\n",
        "        )\n",
        "\n",
        "    def act(self, state):\n",
        "        if np.random.rand() <= self.epsilon:\n",
        "            return random.randrange(self.action_size)\n",
        "        act_values = self.model.predict(state)\n",
        "        return np.argmax(act_values[0])  # returns action\n",
        "\n",
        "    def replay(self, batch_size):\n",
        "        minibatch = random.sample(self.memory, batch_size)\n",
        "        for state, action, reward, next_state, done in minibatch:\n",
        "            target = reward\n",
        "            \n",
        "            if not done:\n",
        "                target = (reward + self.gamma *\n",
        "                          np.amax(self.model.predict(next_state)[0]))\n",
        "            target_f = self.model.predict(state)\n",
        "\n",
        "            target_f[0][action] = target\n",
        "            self.model.fit(\n",
        "                  state,\n",
        "                  target_f,\n",
        "                  epochs=1,\n",
        "                  verbose=0\n",
        "                )\n",
        "        if self.epsilon > self.epsilon_min:\n",
        "            self.epsilon *= self.epsilon_decay\n",
        "\n",
        "    def load(self, name):\n",
        "        self.model.load_weights(name)\n",
        "\n",
        "    def save(self, name):\n",
        "        self.model.save_weights(name)"
      ],
      "execution_count": 53,
      "outputs": []
    },
    {
      "cell_type": "markdown",
      "metadata": {
        "id": "A35tH7TUt0qd",
        "colab_type": "text"
      },
      "source": [
        "Now we can run training routine episode-wise, using our CustomEnv and DQNAgent. We do not replay entire episodes for a few times because of computational complexity. \n"
      ]
    },
    {
      "cell_type": "code",
      "metadata": {
        "id": "46St4TlWZ_bp",
        "colab_type": "code",
        "colab": {
          "base_uri": "https://localhost:8080/",
          "height": 67,
          "referenced_widgets": [
            "34a694c6e8db42dbab7ce25a7b0a2979",
            "3c4860029005466597e6b449904afd26",
            "542eebcc8b0a43b4984ef47b2bdd1535",
            "1bad3b3e985f4854beb9846028c5ae98",
            "3a3356d37cf641fdb4bc83e7cfcce13e",
            "5975e7bbcea14d3fa648c0c45f0542c7",
            "90e91b40d1b34f8082972a475d66390d",
            "a669c700096443bf940936afe5508454"
          ]
        },
        "outputId": "f72554f0-d9c9-4240-a398-510e2db78ff2"
      },
      "source": [
        "if __name__ == \"__main__\":\n",
        "    env = CustomEnv(\n",
        "        df.iloc[:100000, :16].to_numpy().reshape(100000,16,1),\n",
        "        QUEUE,\n",
        "        feature_w\n",
        "        )\n",
        "    state_size = env.observation_space.shape[0]\n",
        "    action_size = env.action_space.n\n",
        "    agent = DQNAgent(state_size, action_size)\n",
        "    done = False\n",
        "    batch_size = BATCH_SIZE\n",
        "\n",
        "    for e in tqdm(range(EPISODES)):\n",
        "        state = env.reset()\n",
        "        mean_reward = []\n",
        "        actions = []\n",
        "        for time in range(1):\n",
        "            action = agent.act(state)\n",
        "            actions.append(action)\n",
        "            next_state, reward, done, _ = env.step(action)\n",
        "            reward = reward if not done else -100\n",
        "            mean_reward.append(reward)\n",
        "            agent.memorize(\n",
        "                state,\n",
        "                action,\n",
        "                reward,\n",
        "                next_state,\n",
        "                done\n",
        "                )\n",
        "            state = next_state\n",
        "            if done:\n",
        "                print(\"episode: {}/{}, score: {}, e: {:.2}\"\n",
        "                      .format(\n",
        "                          e,\n",
        "                          EPISODES,\n",
        "                          time,\n",
        "                          agent.epsilon\n",
        "                          )\n",
        "                      )\n",
        "                break\n",
        "            if len(agent.memory) > batch_size:\n",
        "                agent.replay(batch_size)\n",
        "        temp_reward_mean.append(np.mean(mean_reward))\n",
        "        temp_actions_moda.append(int(mode(actions)[0]))\n",
        "\n",
        "        ep.extend(env.get_score())"
      ],
      "execution_count": 54,
      "outputs": [
        {
          "output_type": "display_data",
          "data": {
            "application/vnd.jupyter.widget-view+json": {
              "model_id": "34a694c6e8db42dbab7ce25a7b0a2979",
              "version_minor": 0,
              "version_major": 2
            },
            "text/plain": [
              "HBox(children=(FloatProgress(value=0.0, max=1000.0), HTML(value='')))"
            ]
          },
          "metadata": {
            "tags": []
          }
        },
        {
          "output_type": "stream",
          "text": [
            "\n"
          ],
          "name": "stdout"
        }
      ]
    },
    {
      "cell_type": "markdown",
      "metadata": {
        "id": "LQvDrwNmtom2",
        "colab_type": "text"
      },
      "source": [
        "So, now when we finished training we can see the result - it's kinda started to converge, but we need a lot more computational power to determine if it's possible.\n"
      ]
    },
    {
      "cell_type": "code",
      "metadata": {
        "id": "tNJLCdkIGPgH",
        "colab_type": "code",
        "colab": {
          "base_uri": "https://localhost:8080/",
          "height": 704
        },
        "outputId": "eafad8a7-f5c2-400c-8498-f333bab1625a"
      },
      "source": [
        "fig = plt.figure(figsize=(15,10))\n",
        "plt.plot(temp_reward_mean)\n",
        "fig.suptitle('Reward through episodes', fontsize=20)\n",
        "plt.xlabel('Episode number', fontsize=18)\n",
        "plt.ylabel('Mean reward', fontsize=16)"
      ],
      "execution_count": 80,
      "outputs": [
        {
          "output_type": "execute_result",
          "data": {
            "text/plain": [
              "Text(0, 0.5, 'Mean reward')"
            ]
          },
          "metadata": {
            "tags": []
          },
          "execution_count": 80
        },
        {
          "output_type": "display_data",
          "data": {
            "image/png": "[encoded data removed]",
            "text/plain": [
              "<Figure size 1080x720 with 1 Axes>"
            ]
          },
          "metadata": {
            "tags": [],
            "needs_background": "light"
          }
        }
      ]
    },
    {
      "cell_type": "markdown",
      "metadata": {
        "id": "x-eKQ6YxuHNF",
        "colab_type": "text"
      },
      "source": [
        "RL is quite interesting in sense that we can try to determine policy that we can apply to a variety of situation, but it's quite heavy on computational side and it's not guaranteed that in counstructed enviroment even exists some semblence of sub-optimal stategy. "
      ]
    }
  ]
}